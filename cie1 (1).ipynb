{
 "cells": [
  {
   "cell_type": "code",
   "execution_count": 21,
   "id": "221e2af9-4c09-4788-aa6b-e21bbb43c279",
   "metadata": {},
   "outputs": [
    {
     "name": "stdout",
     "output_type": "stream",
     "text": [
      "concatenating with axis 0\n",
      "[1 2 3 4 5 6]\n"
     ]
    }
   ],
   "source": [
    "import numpy as np\n",
    "arr=np.array([1,2,3])\n",
    "arr1=np.array([4,5,6])\n",
    "con=np.concatenate((arr,arr1),axis=0) \n",
    "#concatenating two arrays\n",
    "print('concatenating with axis 0')\n",
    "print(con)\n"
   ]
  },
  {
   "cell_type": "code",
   "execution_count": 55,
   "id": "673a97f0-1b0b-4069-9693-296ea2b11b64",
   "metadata": {},
   "outputs": [
    {
     "name": "stdout",
     "output_type": "stream",
     "text": [
      "concatenating of two arrays\n",
      "[[1 2 3 4 5 6]\n",
      " [1 2 3 2 3 4]]\n"
     ]
    }
   ],
   "source": [
    "import numpy as np\n",
    "arr=np.array([[1,2,3],[1,2,3,]])\n",
    "arr1=np.array([[4,5,6],[2,3,4]])\n",
    "arr2=np.concatenate((arr,arr1),axis=1) \n",
    "#concatenating two arrays\n",
    "print('concatenating with axis 1')\n",
    "print(arr2)\n"
   ]
  },
  {
   "cell_type": "code",
   "execution_count": 13,
   "id": "1699766a-2f68-43f1-abe9-72689fd23009",
   "metadata": {},
   "outputs": [
    {
     "name": "stdout",
     "output_type": "stream",
     "text": [
      "concatenating of two arrays\n",
      "[1 2 3 4 5 6]\n"
     ]
    }
   ],
   "source": [
    "import numpy as np\n",
    "arr=np.array([1,2,3])\n",
    "arr1=np.array([4,5,6])\n",
    "con=np.concatenate((arr,arr1)) \n",
    "#concatenating two arrays\n",
    "print('concatenating of two arrays')\n",
    "print(con)\n"
   ]
  },
  {
   "cell_type": "code",
   "execution_count": 7,
   "id": "1cc852f5-1c09-4464-a719-c8aa73875c2c",
   "metadata": {},
   "outputs": [
    {
     "name": "stdout",
     "output_type": "stream",
     "text": [
      "/n reverse of array\n",
      "[10  4  6  2]\n"
     ]
    }
   ],
   "source": [
    "import numpy as np\n",
    "data1=np.array([2,6,4,10])\n",
    "print(\"/n reverse of array\")\n",
    "rev=np.flip(data1)\n",
    "print(rev)\n"
   ]
  },
  {
   "cell_type": "code",
   "execution_count": null,
   "id": "a18f5c38-e64f-48c9-8755-3a24b137cfe0",
   "metadata": {},
   "outputs": [],
   "source": []
  }
 ],
 "metadata": {
  "kernelspec": {
   "display_name": "Python 3 (ipykernel)",
   "language": "python",
   "name": "python3"
  },
  "language_info": {
   "codemirror_mode": {
    "name": "ipython",
    "version": 3
   },
   "file_extension": ".py",
   "mimetype": "text/x-python",
   "name": "python",
   "nbconvert_exporter": "python",
   "pygments_lexer": "ipython3",
   "version": "3.12.4"
  }
 },
 "nbformat": 4,
 "nbformat_minor": 5
}
